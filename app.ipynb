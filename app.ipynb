{
 "cells": [
  {
   "cell_type": "code",
   "execution_count": 1,
   "metadata": {},
   "outputs": [
    {
     "ename": "ImportError",
     "evalue": "cannot import name 'crawl_UTE' from 'API' (unknown location)",
     "output_type": "error",
     "traceback": [
      "\u001b[1;31m---------------------------------------------------------------------------\u001b[0m",
      "\u001b[1;31mImportError\u001b[0m                               Traceback (most recent call last)",
      "\u001b[1;32mc:\\Users\\ADMIN\\Python_project\\ChatBot_PY\\app.ipynb Cell 1'\u001b[0m in \u001b[0;36m<cell line: 6>\u001b[1;34m()\u001b[0m\n\u001b[0;32m      <a href='vscode-notebook-cell:/c%3A/Users/ADMIN/Python_project/ChatBot_PY/app.ipynb#ch0000000?line=3'>4</a>\u001b[0m \u001b[39mimport\u001b[39;00m \u001b[39mrandom\u001b[39;00m\n\u001b[0;32m      <a href='vscode-notebook-cell:/c%3A/Users/ADMIN/Python_project/ChatBot_PY/app.ipynb#ch0000000?line=4'>5</a>\u001b[0m \u001b[39mimport\u001b[39;00m \u001b[39mjson\u001b[39;00m\n\u001b[1;32m----> <a href='vscode-notebook-cell:/c%3A/Users/ADMIN/Python_project/ChatBot_PY/app.ipynb#ch0000000?line=5'>6</a>\u001b[0m \u001b[39mfrom\u001b[39;00m \u001b[39mAPI\u001b[39;00m \u001b[39mimport\u001b[39;00m crawl_UTE \u001b[39mas\u001b[39;00m api\n\u001b[0;32m      <a href='vscode-notebook-cell:/c%3A/Users/ADMIN/Python_project/ChatBot_PY/app.ipynb#ch0000000?line=7'>8</a>\u001b[0m \u001b[39m# convert accent vietnamese to no\u001b[39;00m\n\u001b[0;32m      <a href='vscode-notebook-cell:/c%3A/Users/ADMIN/Python_project/ChatBot_PY/app.ipynb#ch0000000?line=8'>9</a>\u001b[0m \u001b[39mdef\u001b[39;00m \u001b[39mno_accent_vietnamese\u001b[39m(s):\n",
      "\u001b[1;31mImportError\u001b[0m: cannot import name 'crawl_UTE' from 'API' (unknown location)"
     ]
    }
   ],
   "source": [
    "from flask import Flask, render_template, request\n",
    "from datetime import date, datetime\n",
    "import re\n",
    "import random\n",
    "import json\n",
    "from API import crawl_UTE as api\n",
    "\n",
    "# convert accent vietnamese to no\n",
    "def no_accent_vietnamese(s):\n",
    "    s = s.lower()\n",
    "    s = re.sub('[áàảãạăắằẳẵặâấầẩẫậ]', 'a', s)\n",
    "    s = re.sub('[éèẻẽẹêếềểễệ]', 'e', s)\n",
    "    s = re.sub('[óòỏõọôốồổỗộơớờởỡợ]', 'o', s)\n",
    "    s = re.sub('[íìỉĩị]', 'i', s)\n",
    "    s = re.sub('[úùủũụưứừửữự]', 'u', s)\n",
    "    s = re.sub('[ýỳỷỹỵ]', 'y', s)\n",
    "    s = re.sub('đ', 'd', s)\n",
    "    return s\n",
    "# remove spacial and residual character \n",
    "def special_characters(str):\n",
    "    str = re.sub(r\"[^a-eg-ik-vxyA-EG-IK-VXY0-9 ]\",\"\",str)\n",
    "    index = 0\n",
    "    for i in str:\n",
    "        if index != 0:\n",
    "            if 'sxr'.find(i)>=0:\n",
    "                if str[index-1] != ' ':\n",
    "                    str =str.replace(i,\"\")\n",
    "                    index-=1\n",
    "        index+=1\n",
    "    return str\n",
    "# find a like b\n",
    "def like(a,b):\n",
    "    a = a.split(\" \")\n",
    "    for i in a:\n",
    "        if b.find(i) < 0:\n",
    "            return False\n",
    "    return True\n",
    "def getRespone(userText,db):\n",
    "    with open(\"data/\"+db+\".json\",encoding='utf-8') as file:\n",
    "        data = json.load(file)\n",
    "    for intents in data[\"intents\"]:\n",
    "        for tag in intents[\"tag\"]:\n",
    "            if like(special_characters(no_accent_vietnamese(str(tag))),special_characters(no_accent_vietnamese(str(userText)))):\n",
    "                for questions in intents['questions']:\n",
    "                    if special_characters(no_accent_vietnamese(userText)).find(special_characters(no_accent_vietnamese(questions))) >=0:\n",
    "                        return intents[\"answers\"][random.randint(0, len(intents[\"answers\"])-1)]\n",
    "    for intents in data[\"intents\"]:\n",
    "        for questions in intents['questions']:\n",
    "            if special_characters(no_accent_vietnamese(userText)).find(special_characters(no_accent_vietnamese(questions))) >=0:\n",
    "                return intents[\"answers\"][random.randint(0, len(intents[\"answers\"])-1)]\n",
    "    return \"Thông tin này AI chưa được học :D\"\n",
    "\n",
    "app = Flask(__name__)\n",
    "@app.route(\"/\")\n",
    "def home():\n",
    "    return render_template(\"index.html\")\n",
    "# get reply \n",
    "@app.route(\"/get\")\n",
    "def get_bot_response():\n",
    "    userText = request.args.get('msg')\n",
    "    db = request.args.get('DB')\n",
    "    if db == \"\":\n",
    "        db = \"InforGroup\"\n",
    "    return getRespone(userText,db)\n",
    "\n",
    "# run main\n",
    "if __name__ == \"__main__\":\n",
    "    api.crawl_data()\n",
    "    app.run()"
   ]
  },
  {
   "cell_type": "code",
   "execution_count": null,
   "metadata": {},
   "outputs": [],
   "source": []
  }
 ],
 "metadata": {
  "interpreter": {
   "hash": "b89b5cfaba6639976dc87ff2fec6d58faec662063367e2c229c520fe71072417"
  },
  "kernelspec": {
   "display_name": "Python 3.10.2 64-bit",
   "language": "python",
   "name": "python3"
  },
  "language_info": {
   "codemirror_mode": {
    "name": "ipython",
    "version": 3
   },
   "file_extension": ".py",
   "mimetype": "text/x-python",
   "name": "python",
   "nbconvert_exporter": "python",
   "pygments_lexer": "ipython3",
   "version": "3.10.2"
  },
  "orig_nbformat": 4
 },
 "nbformat": 4,
 "nbformat_minor": 2
}
