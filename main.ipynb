{
 "cells": [
  {
   "cell_type": "code",
   "execution_count": 4,
   "metadata": {},
   "outputs": [],
   "source": [
    "from flask import Flask, render_template, request\n",
    "import re\n",
    "import random\n",
    "import json"
   ]
  },
  {
   "cell_type": "code",
   "execution_count": 5,
   "metadata": {},
   "outputs": [],
   "source": [
    "def no_accent_vietnamese(s):\n",
    "    s = s.lower()\n",
    "    s = re.sub('[áàảãạăắằẳẵặâấầẩẫậ]', 'a', s)\n",
    "    s = re.sub('[éèẻẽẹêếềểễệ]', 'e', s)\n",
    "    s = re.sub('[óòỏõọôốồổỗộơớờởỡợ]', 'o', s)\n",
    "    s = re.sub('[íìỉĩị]', 'i', s)\n",
    "    s = re.sub('[úùủũụưứừửữự]', 'u', s)\n",
    "    s = re.sub('[ýỳỷỹỵ]', 'y', s)\n",
    "    s = re.sub('đ', 'd', s)\n",
    "    return s\n",
    "# remove spacial and residual character \n",
    "def special_characters(str):\n",
    "    str = re.sub(r\"[^a-eg-ik-vxyA-EG-IK-VXY0-9 ]\",\"\",str)\n",
    "    index = 0\n",
    "    for i in str:\n",
    "        if index != 0:\n",
    "            if 'sxr'.find(i)>=0:\n",
    "                if str[index-1] != ' ':\n",
    "                    str =str.replace(i,\"\")\n",
    "                    index-=1\n",
    "        index+=1\n",
    "    return str\n",
    "# find a like b\n",
    "def like(a,b):\n",
    "    a = a.split(\" \")\n",
    "    for i in a:\n",
    "        if b.find(i) < 0:\n",
    "            return False\n",
    "    return True\n",
    "def getRespone(userText,db):\n",
    "    with open(\"data/\"+db+\".json\",encoding='utf-8') as file:\n",
    "        data = json.load(file)\n",
    "    for intents in data[\"intents\"]:\n",
    "        for tag in intents[\"tag\"]:\n",
    "            if like(special_characters(no_accent_vietnamese(str(tag))),special_characters(no_accent_vietnamese(str(userText)))):\n",
    "                for questions in intents['questions']:\n",
    "                    if special_characters(no_accent_vietnamese(userText)).find(special_characters(no_accent_vietnamese(questions))) >=0:\n",
    "                        return intents[\"answers\"][random.randint(0, len(intents[\"answers\"])-1)]\n",
    "    for intents in data[\"intents\"]:\n",
    "        for questions in intents['questions']:\n",
    "            if special_characters(no_accent_vietnamese(userText)).find(special_characters(no_accent_vietnamese(questions))) >=0:\n",
    "                return intents[\"answers\"][random.randint(0, len(intents[\"answers\"])-1)]\n",
    "    return \"Thông tin này AI chưa được học :D\"\n",
    "def check(a,b):\n",
    "    for i in a:\n",
    "        if like(i,b):\n",
    "            return True\n",
    "    return False"
   ]
  },
  {
   "cell_type": "code",
   "execution_count": 6,
   "metadata": {},
   "outputs": [
    {
     "name": "stdout",
     "output_type": "stream",
     "text": [
      " * Serving Flask app '__main__' (lazy loading)\n",
      " * Environment: production\n",
      "\u001b[31m   WARNING: This is a development server. Do not use it in a production deployment.\u001b[0m\n",
      "\u001b[2m   Use a production WSGI server instead.\u001b[0m\n",
      " * Debug mode: off\n"
     ]
    },
    {
     "name": "stderr",
     "output_type": "stream",
     "text": [
      " * Running on http://127.0.0.1:5000 (Press CTRL+C to quit)\n",
      "127.0.0.1 - - [23/Apr/2022 17:30:53] \"GET / HTTP/1.1\" 200 -\n",
      "127.0.0.1 - - [23/Apr/2022 17:30:53] \"GET /static/style.css HTTP/1.1\" 304 -\n",
      "127.0.0.1 - - [23/Apr/2022 17:31:02] \"GET /get?msg=giờ%20hiện%20tại%3F%3F&DB= HTTP/1.1\" 200 -\n",
      "127.0.0.1 - - [23/Apr/2022 17:31:07] \"GET /get?msg=ngày%20hiện%20tại%3F&DB= HTTP/1.1\" 200 -\n",
      "127.0.0.1 - - [23/Apr/2022 17:31:17] \"GET /get?msg=bây%20giờ%20là%20mấy%20giờ%3F&DB= HTTP/1.1\" 200 -\n",
      "127.0.0.1 - - [23/Apr/2022 17:31:25] \"GET /get?msg=hôm%20nay%20là%20ngày%20mấy%3F&DB= HTTP/1.1\" 200 -\n",
      "127.0.0.1 - - [23/Apr/2022 17:34:01] \"GET / HTTP/1.1\" 200 -\n",
      "127.0.0.1 - - [23/Apr/2022 17:34:01] \"GET /static/style.css HTTP/1.1\" 304 -\n"
     ]
    }
   ],
   "source": [
    "app = Flask(__name__)\n",
    "@app.route(\"/\")\n",
    "def home():\n",
    "    return render_template(\"index.html\")\n",
    "# get reply \n",
    "@app.route(\"/get\")\n",
    "def get_bot_response():\n",
    "    userText = request.args.get('msg')\n",
    "    hour = [\"mấy giờ\",\"giờ hiện tại\"]\n",
    "    day = [\"hôm nay ngày\",\"ngày hiện tại\"]\n",
    "    if check(hour,userText):\n",
    "        return \"giờ nè\"\n",
    "    else:\n",
    "        if check(day,userText):\n",
    "            return \"ngày nè\"\n",
    "        else:\n",
    "            db = request.args.get('DB')\n",
    "            if db == \"\":\n",
    "                db = \"InforGroup\"\n",
    "            return getRespone(userText,db)\n",
    "                \n",
    "    \n",
    "\n",
    "# run main\n",
    "if __name__ == \"__main__\":\n",
    "    app.run()"
   ]
  },
  {
   "cell_type": "code",
   "execution_count": null,
   "metadata": {},
   "outputs": [
    {
     "name": "stdout",
     "output_type": "stream",
     "text": [
      " * Serving Flask app '__main__' (lazy loading)\n",
      " * Environment: production\n",
      "\u001b[31m   WARNING: This is a development server. Do not use it in a production deployment.\u001b[0m\n",
      "\u001b[2m   Use a production WSGI server instead.\u001b[0m\n",
      " * Debug mode: off\n"
     ]
    },
    {
     "name": "stderr",
     "output_type": "stream",
     "text": [
      "[nltk_data] Downloading package averaged_perceptron_tagger to\n",
      "[nltk_data]     C:\\Users\\ADMIN\\AppData\\Roaming\\nltk_data...\n",
      "[nltk_data]   Package averaged_perceptron_tagger is already up-to-\n",
      "[nltk_data]       date!\n",
      "[nltk_data] Downloading package punkt to\n",
      "[nltk_data]     C:\\Users\\ADMIN\\AppData\\Roaming\\nltk_data...\n",
      "[nltk_data]   Package punkt is already up-to-date!\n",
      "[nltk_data] Downloading package stopwords to\n",
      "[nltk_data]     C:\\Users\\ADMIN\\AppData\\Roaming\\nltk_data...\n",
      "[nltk_data]   Package stopwords is already up-to-date!\n",
      " * Running on http://127.0.0.1:5000 (Press CTRL+C to quit)\n",
      "127.0.0.1 - - [22/Apr/2022 19:33:17] \"GET / HTTP/1.1\" 200 -\n",
      "127.0.0.1 - - [22/Apr/2022 19:33:17] \"GET /static/style.css HTTP/1.1\" 304 -\n",
      "127.0.0.1 - - [22/Apr/2022 19:33:20] \"GET /get?msg=alo&DB= HTTP/1.1\" 200 -\n",
      "127.0.0.1 - - [22/Apr/2022 19:33:27] \"GET /get?msg=tên%20nhóm%20là%20gì%3F&DB= HTTP/1.1\" 200 -\n"
     ]
    }
   ],
   "source": []
  },
  {
   "cell_type": "code",
   "execution_count": null,
   "metadata": {},
   "outputs": [
    {
     "name": "stdout",
     "output_type": "stream",
     "text": [
      "[]\n"
     ]
    }
   ],
   "source": [
    "from lxml import html\n",
    "import requests\n",
    "page = requests.get('https://google.com?q=sơn+tùng')\n",
    "tree = html.fromstring(page.content)\n",
    "result = tree.xpath('//div[@class=\"TO2KC\"]//div//div//div/text()')\n",
    "print(result)"
   ]
  },
  {
   "cell_type": "code",
   "execution_count": null,
   "metadata": {},
   "outputs": [],
   "source": []
  }
 ],
 "metadata": {
  "interpreter": {
   "hash": "b89b5cfaba6639976dc87ff2fec6d58faec662063367e2c229c520fe71072417"
  },
  "kernelspec": {
   "display_name": "Python 3.10.2 64-bit",
   "language": "python",
   "name": "python3"
  },
  "language_info": {
   "codemirror_mode": {
    "name": "ipython",
    "version": 3
   },
   "file_extension": ".py",
   "mimetype": "text/x-python",
   "name": "python",
   "nbconvert_exporter": "python",
   "pygments_lexer": "ipython3",
   "version": "3.10.2"
  },
  "orig_nbformat": 4
 },
 "nbformat": 4,
 "nbformat_minor": 2
}
