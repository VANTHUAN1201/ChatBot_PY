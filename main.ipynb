{
 "cells": [
  {
   "cell_type": "code",
   "execution_count": 4,
   "metadata": {},
   "outputs": [],
   "source": [
    "from flask import Flask, render_template, request\n",
    "import re\n",
    "import random\n",
    "import json"
   ]
  },
  {
   "cell_type": "code",
   "execution_count": 8,
   "metadata": {},
   "outputs": [],
   "source": [
    "def no_accent_vietnamese(s):\n",
    "    s = s.lower()\n",
    "    s = re.sub('[áàảãạăắằẳẵặâấầẩẫậ]', 'a', s)\n",
    "    s = re.sub('[éèẻẽẹêếềểễệ]', 'e', s)\n",
    "    s = re.sub('[óòỏõọôốồổỗộơớờởỡợ]', 'o', s)\n",
    "    s = re.sub('[íìỉĩị]', 'i', s)\n",
    "    s = re.sub('[úùủũụưứừửữự]', 'u', s)\n",
    "    s = re.sub('[ýỳỷỹỵ]', 'y', s)\n",
    "    s = re.sub('đ', 'd', s)\n",
    "    return s\n",
    "# remove spacial and residual character \n",
    "# loại bỏ các kí tự đặc biệt \n",
    "def special_characters(str):\n",
    "    str = re.sub(r\"[^a-eg-ik-vxyA-EG-IK-VXY0-9 ]\",\"\",str)\n",
    "    index = 0\n",
    "    # tạo 1 vòng lặp for cho i duyệt hết cái str\n",
    "    for i in str:\n",
    "    # kiểm tra xem sxr có phải là phụ âm hay không \n",
    "        if index != 0:\n",
    "            if 'sxr'.find(i)>=0:\n",
    "                if str[index-1] != ' ':\n",
    "    # nếu không phải thì xóa \n",
    "                    str =str.replace(i,\"\")\n",
    "    # lụi vị trí hiện tại 1 đơn vị\n",
    "                    index-=1\n",
    "        index+=1\n",
    "    return str\n",
    "# find a like b\n",
    "# tìm a trong b\n",
    "#  ví dụ : Nguyễn Quỳnh trong Nguyễn Văn Quỳnh => đúng\n",
    "# Nguyễn Minh trong Nguyễn Văn Quỳnh => sai\n",
    "def like(a,b):\n",
    "    # tách chuỗi Nguyễn Quỳnh => {Nguyễn}{Quỳnh} \n",
    "    a = a.split(\" \")\n",
    "    # Duyệt chuỗi vừa tách\n",
    "    for i in a:\n",
    "        # tìm i trong thằng b (Input) \n",
    "        # có => đúng\n",
    "        # không có => sai\n",
    "        if b.find(i) < 0:\n",
    "            return False\n",
    "    return True\n",
    "def getResponse(userText,db):\n",
    "    # mở file chuẩn utf-8\n",
    "    with open(\"data/\"+db+\".json\",encoding='utf-8') as file:\n",
    "        # load theo dạng json\n",
    "        data = json.load(file)\n",
    "        # duyệt data có tên intents \n",
    "    for intents in data[\"intents\"]:\n",
    "        #  duyệt intents có tag\n",
    "        for tag in intents[\"tag\"]:\n",
    "            # so sánh sự giống nhau giữa tag và cái input nhập vào\n",
    "            if like(special_characters(no_accent_vietnamese(str(tag))),special_characters(no_accent_vietnamese(str(userText)))):\n",
    "                # duyệt intents có tên questions\n",
    "                for questions in intents['questions']:\n",
    "                    # tìm question trong thằng input nếu có return random câu trả lời\n",
    "                    if special_characters(no_accent_vietnamese(userText)).find(special_characters(no_accent_vietnamese(questions))) >=0:\n",
    "                        return intents[\"answers\"][random.randint(0, len(intents[\"answers\"])-1)]\n",
    "    # nếu tag giống nhau nhưng question lại khác nhau , thì nó sẽ bỏ qua duyệt tag và duyệt thẳng vào question \n",
    "    for intents in data[\"intents\"]:\n",
    "        for questions in intents['questions']:\n",
    "            if special_characters(no_accent_vietnamese(userText)).find(special_characters(no_accent_vietnamese(questions))) >=0:\n",
    "                return intents[\"answers\"][random.randint(0, len(intents[\"answers\"])-1)]\n",
    "    return \"Thông tin này AI chưa được học :D\"\n",
    "def check(a,b):\n",
    "    for i in a:\n",
    "        if like(i,b):\n",
    "            return True\n",
    "    return False"
   ]
  },
  {
   "cell_type": "code",
   "execution_count": null,
   "metadata": {},
   "outputs": [
    {
     "ename": "",
     "evalue": "",
     "output_type": "error",
     "traceback": [
      "\u001b[1;31mRunning cells with 'Python 3.10.0 64-bit' requires ipykernel package.\n",
      "Run the following command to install 'ipykernel' into the Python environment. \n",
      "Command: '\"C:/Program Files/Python310/python.exe\" -m pip install ipykernel -U --user --force-reinstall'"
     ]
    }
   ],
   "source": [
    "app = Flask(__name__)\n",
    "@app.route(\"/\")\n",
    "def home():\n",
    "    return render_template(\"index.html\")\n",
    "# get reply \n",
    "@app.route(\"/get\")\n",
    "def get_bot_response():\n",
    "    userText = request.args.get('msg')\n",
    "    hour = [\"mấy giờ\",\"giờ hiện tại\"]\n",
    "    day = [\"hôm nay ngày\",\"ngày hiện tại\"]\n",
    "    if check(hour,userText):\n",
    "        return \"giờ nè\"\n",
    "    else:\n",
    "        if check(day,userText):\n",
    "            return \"ngày nè\"\n",
    "        else:\n",
    "            db = request.args.get('DB')\n",
    "            if db == \"\":\n",
    "                db = \"InforGroup\"\n",
    "            return getResponse(userText,db)\n",
    "                \n",
    "    \n",
    "\n",
    "# run main\n",
    "if __name__ == \"__main__\":\n",
    "    app.run()"
   ]
  },
  {
   "cell_type": "code",
   "execution_count": 7,
   "metadata": {},
   "outputs": [
    {
     "name": "stdout",
     "output_type": "stream",
     "text": [
      "\n",
      "Chiến dịch gây quỹ vì cộng đồng trên App MB Bank\n",
      "\n"
     ]
    }
   ],
   "source": [
    "from bs4 import BeautifulSoup\n",
    "import requests\n",
    "\n",
    "path = \"https://sinhvien.ute.udn.vn/default.aspx#\"\n",
    "\n",
    "result = requests.get(path)\n",
    "\n",
    "soup = BeautifulSoup(result.content,\"html\")\n",
    "\n",
    "data = soup.find(\"h3\",itemprop=\"name\").text"
   ]
  },
  {
   "cell_type": "code",
   "execution_count": null,
   "metadata": {},
   "outputs": [
    {
     "name": "stdout",
     "output_type": "stream",
     "text": [
      "[]\n"
     ]
    }
   ],
   "source": []
  },
  {
   "cell_type": "code",
   "execution_count": null,
   "metadata": {},
   "outputs": [],
   "source": []
  }
 ],
 "metadata": {
  "interpreter": {
   "hash": "b89b5cfaba6639976dc87ff2fec6d58faec662063367e2c229c520fe71072417"
  },
  "kernelspec": {
   "display_name": "Python 3.10.2 64-bit",
   "language": "python",
   "name": "python3"
  },
  "language_info": {
   "codemirror_mode": {
    "name": "ipython",
    "version": 3
   },
   "file_extension": ".py",
   "mimetype": "text/x-python",
   "name": "python",
   "nbconvert_exporter": "python",
   "pygments_lexer": "ipython3",
   "version": "3.10.0"
  },
  "orig_nbformat": 4
 },
 "nbformat": 4,
 "nbformat_minor": 2
}
